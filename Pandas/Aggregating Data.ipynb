{
 "cells": [
  {
   "cell_type": "code",
   "execution_count": 1,
   "id": "8b1c200f-3e79-4950-8055-de3f35702a24",
   "metadata": {},
   "outputs": [],
   "source": [
    "import pandas as pd"
   ]
  },
  {
   "cell_type": "code",
   "execution_count": 48,
   "id": "921e9d2c-f4b4-4699-82b2-a36b37127cdc",
   "metadata": {},
   "outputs": [],
   "source": [
    "bios = pd.read_csv('./file_data/bios.csv')"
   ]
  },
  {
   "cell_type": "code",
   "execution_count": 3,
   "id": "f3ec130b-8db4-4c93-93d8-da0a06096349",
   "metadata": {},
   "outputs": [
    {
     "data": {
      "text/plain": [
       "born_city\n",
       "Budapest           1378\n",
       "Moskva (Moscow)     883\n",
       "Oslo                708\n",
       "Stockholm           629\n",
       "Praha (Prague)      600\n",
       "                   ... \n",
       "Bodrogkisfalud        1\n",
       "Ternberg              1\n",
       "Klaus                 1\n",
       "Plaški                1\n",
       "Dulwich Hill          1\n",
       "Name: count, Length: 22368, dtype: int64"
      ]
     },
     "execution_count": 3,
     "metadata": {},
     "output_type": "execute_result"
    }
   ],
   "source": [
    "bios['born_city'].value_counts()"
   ]
  },
  {
   "cell_type": "code",
   "execution_count": 4,
   "id": "0983169b-fe38-4950-a4a0-5ce709c90292",
   "metadata": {},
   "outputs": [
    {
     "data": {
      "text/html": [
       "<div>\n",
       "<style scoped>\n",
       "    .dataframe tbody tr th:only-of-type {\n",
       "        vertical-align: middle;\n",
       "    }\n",
       "\n",
       "    .dataframe tbody tr th {\n",
       "        vertical-align: top;\n",
       "    }\n",
       "\n",
       "    .dataframe thead th {\n",
       "        text-align: right;\n",
       "    }\n",
       "</style>\n",
       "<table border=\"1\" class=\"dataframe\">\n",
       "  <thead>\n",
       "    <tr style=\"text-align: right;\">\n",
       "      <th></th>\n",
       "      <th>athlete_id</th>\n",
       "      <th>name</th>\n",
       "      <th>born_date</th>\n",
       "      <th>born_city</th>\n",
       "      <th>born_region</th>\n",
       "      <th>born_country</th>\n",
       "      <th>NOC</th>\n",
       "      <th>height_cm</th>\n",
       "      <th>weight_kg</th>\n",
       "      <th>died_date</th>\n",
       "    </tr>\n",
       "  </thead>\n",
       "  <tbody>\n",
       "    <tr>\n",
       "      <th>0</th>\n",
       "      <td>1</td>\n",
       "      <td>Jean-François Blanchy</td>\n",
       "      <td>1886-12-12</td>\n",
       "      <td>Bordeaux</td>\n",
       "      <td>Gironde</td>\n",
       "      <td>FRA</td>\n",
       "      <td>France</td>\n",
       "      <td>NaN</td>\n",
       "      <td>NaN</td>\n",
       "      <td>10/2/1960</td>\n",
       "    </tr>\n",
       "    <tr>\n",
       "      <th>1</th>\n",
       "      <td>2</td>\n",
       "      <td>Arnaud Boetsch</td>\n",
       "      <td>4/1/1969</td>\n",
       "      <td>Meulan</td>\n",
       "      <td>Yvelines</td>\n",
       "      <td>FRA</td>\n",
       "      <td>France</td>\n",
       "      <td>183.0</td>\n",
       "      <td>76.0</td>\n",
       "      <td>NaN</td>\n",
       "    </tr>\n",
       "    <tr>\n",
       "      <th>2</th>\n",
       "      <td>3</td>\n",
       "      <td>Jean Borotra</td>\n",
       "      <td>1898-08-13</td>\n",
       "      <td>Biarritz</td>\n",
       "      <td>Pyrénées-Atlantiques</td>\n",
       "      <td>FRA</td>\n",
       "      <td>France</td>\n",
       "      <td>183.0</td>\n",
       "      <td>76.0</td>\n",
       "      <td>7/17/1994</td>\n",
       "    </tr>\n",
       "    <tr>\n",
       "      <th>3</th>\n",
       "      <td>4</td>\n",
       "      <td>Jacques Brugnon</td>\n",
       "      <td>1895-05-11</td>\n",
       "      <td>Paris VIIIe</td>\n",
       "      <td>Paris</td>\n",
       "      <td>FRA</td>\n",
       "      <td>France</td>\n",
       "      <td>168.0</td>\n",
       "      <td>64.0</td>\n",
       "      <td>3/20/1978</td>\n",
       "    </tr>\n",
       "    <tr>\n",
       "      <th>4</th>\n",
       "      <td>5</td>\n",
       "      <td>Albert Canet</td>\n",
       "      <td>1878-04-17</td>\n",
       "      <td>Wandsworth</td>\n",
       "      <td>England</td>\n",
       "      <td>GBR</td>\n",
       "      <td>France</td>\n",
       "      <td>NaN</td>\n",
       "      <td>NaN</td>\n",
       "      <td>7/25/1930</td>\n",
       "    </tr>\n",
       "  </tbody>\n",
       "</table>\n",
       "</div>"
      ],
      "text/plain": [
       "   athlete_id                   name   born_date    born_city  \\\n",
       "0           1  Jean-François Blanchy  1886-12-12     Bordeaux   \n",
       "1           2         Arnaud Boetsch    4/1/1969       Meulan   \n",
       "2           3           Jean Borotra  1898-08-13     Biarritz   \n",
       "3           4        Jacques Brugnon  1895-05-11  Paris VIIIe   \n",
       "4           5           Albert Canet  1878-04-17   Wandsworth   \n",
       "\n",
       "            born_region born_country     NOC  height_cm  weight_kg  died_date  \n",
       "0               Gironde          FRA  France        NaN        NaN  10/2/1960  \n",
       "1              Yvelines          FRA  France      183.0       76.0        NaN  \n",
       "2  Pyrénées-Atlantiques          FRA  France      183.0       76.0  7/17/1994  \n",
       "3                 Paris          FRA  France      168.0       64.0  3/20/1978  \n",
       "4               England          GBR  France        NaN        NaN  7/25/1930  "
      ]
     },
     "execution_count": 4,
     "metadata": {},
     "output_type": "execute_result"
    }
   ],
   "source": [
    "bios.head()"
   ]
  },
  {
   "cell_type": "code",
   "execution_count": 5,
   "id": "67bd1b50-2685-4a50-a2c9-79d52a517590",
   "metadata": {},
   "outputs": [
    {
     "data": {
      "text/plain": [
       "born_region\n",
       "South Dakota     27\n",
       "West Virginia    24\n",
       "Delaware         22\n",
       "North Dakota     16\n",
       "Wyoming          14\n",
       "Name: count, dtype: int64"
      ]
     },
     "execution_count": 5,
     "metadata": {},
     "output_type": "execute_result"
    }
   ],
   "source": [
    "bios[bios['born_country']=='USA']['born_region'].value_counts().tail()"
   ]
  },
  {
   "cell_type": "code",
   "execution_count": 20,
   "id": "6861de11-2457-41b9-8bc8-3906a3b4629e",
   "metadata": {},
   "outputs": [
    {
     "data": {
      "text/html": [
       "<div>\n",
       "<style scoped>\n",
       "    .dataframe tbody tr th:only-of-type {\n",
       "        vertical-align: middle;\n",
       "    }\n",
       "\n",
       "    .dataframe tbody tr th {\n",
       "        vertical-align: top;\n",
       "    }\n",
       "\n",
       "    .dataframe thead th {\n",
       "        text-align: right;\n",
       "    }\n",
       "</style>\n",
       "<table border=\"1\" class=\"dataframe\">\n",
       "  <thead>\n",
       "    <tr style=\"text-align: right;\">\n",
       "      <th></th>\n",
       "      <th>Student Name</th>\n",
       "      <th>Subject</th>\n",
       "      <th>Marks</th>\n",
       "    </tr>\n",
       "  </thead>\n",
       "  <tbody>\n",
       "    <tr>\n",
       "      <th>0</th>\n",
       "      <td>Hasan</td>\n",
       "      <td>Data</td>\n",
       "      <td>42</td>\n",
       "    </tr>\n",
       "    <tr>\n",
       "      <th>1</th>\n",
       "      <td>Qaim</td>\n",
       "      <td>Urdu</td>\n",
       "      <td>50</td>\n",
       "    </tr>\n",
       "    <tr>\n",
       "      <th>2</th>\n",
       "      <td>Qamer</td>\n",
       "      <td>Biology</td>\n",
       "      <td>54</td>\n",
       "    </tr>\n",
       "    <tr>\n",
       "      <th>3</th>\n",
       "      <td>Ibrahim</td>\n",
       "      <td>Data</td>\n",
       "      <td>55</td>\n",
       "    </tr>\n",
       "    <tr>\n",
       "      <th>4</th>\n",
       "      <td>Ali</td>\n",
       "      <td>Biology</td>\n",
       "      <td>23</td>\n",
       "    </tr>\n",
       "    <tr>\n",
       "      <th>5</th>\n",
       "      <td>Ahmad</td>\n",
       "      <td>Data</td>\n",
       "      <td>1</td>\n",
       "    </tr>\n",
       "    <tr>\n",
       "      <th>6</th>\n",
       "      <td>Ghyass</td>\n",
       "      <td>Math</td>\n",
       "      <td>44</td>\n",
       "    </tr>\n",
       "    <tr>\n",
       "      <th>7</th>\n",
       "      <td>Tabish</td>\n",
       "      <td>Urdu</td>\n",
       "      <td>22</td>\n",
       "    </tr>\n",
       "  </tbody>\n",
       "</table>\n",
       "</div>"
      ],
      "text/plain": [
       "  Student Name  Subject  Marks\n",
       "0        Hasan     Data     42\n",
       "1         Qaim     Urdu     50\n",
       "2        Qamer  Biology     54\n",
       "3      Ibrahim     Data     55\n",
       "4          Ali  Biology     23\n",
       "5        Ahmad     Data      1\n",
       "6       Ghyass     Math     44\n",
       "7       Tabish     Urdu     22"
      ]
     },
     "execution_count": 20,
     "metadata": {},
     "output_type": "execute_result"
    }
   ],
   "source": [
    "marks = pd.read_csv('./UpdatedFile.csv')\n",
    "marks"
   ]
  },
  {
   "cell_type": "code",
   "execution_count": 26,
   "id": "a49a0481-8018-472e-a14e-cb7374fadd63",
   "metadata": {},
   "outputs": [
    {
     "data": {
      "text/plain": [
       "Subject\n",
       "Biology    77\n",
       "Data       98\n",
       "Math       44\n",
       "Urdu       72\n",
       "Name: Marks, dtype: int64"
      ]
     },
     "execution_count": 26,
     "metadata": {},
     "output_type": "execute_result"
    }
   ],
   "source": [
    "marks.groupby(['Subject'])['Marks'].mean()\n",
    "marks.groupby(['Subject'])['Marks'].sum()"
   ]
  },
  {
   "cell_type": "code",
   "execution_count": 24,
   "id": "90c97abc-2969-4fa3-af54-e4d8d8d2f687",
   "metadata": {},
   "outputs": [
    {
     "data": {
      "text/html": [
       "<div>\n",
       "<style scoped>\n",
       "    .dataframe tbody tr th:only-of-type {\n",
       "        vertical-align: middle;\n",
       "    }\n",
       "\n",
       "    .dataframe tbody tr th {\n",
       "        vertical-align: top;\n",
       "    }\n",
       "\n",
       "    .dataframe thead th {\n",
       "        text-align: right;\n",
       "    }\n",
       "</style>\n",
       "<table border=\"1\" class=\"dataframe\">\n",
       "  <thead>\n",
       "    <tr style=\"text-align: right;\">\n",
       "      <th></th>\n",
       "      <th></th>\n",
       "      <th>Marks</th>\n",
       "    </tr>\n",
       "    <tr>\n",
       "      <th>Subject</th>\n",
       "      <th>Student Name</th>\n",
       "      <th></th>\n",
       "    </tr>\n",
       "  </thead>\n",
       "  <tbody>\n",
       "    <tr>\n",
       "      <th rowspan=\"2\" valign=\"top\">Biology</th>\n",
       "      <th>Ali</th>\n",
       "      <td>23</td>\n",
       "    </tr>\n",
       "    <tr>\n",
       "      <th>Qamer</th>\n",
       "      <td>54</td>\n",
       "    </tr>\n",
       "    <tr>\n",
       "      <th rowspan=\"3\" valign=\"top\">Data</th>\n",
       "      <th>Ahmad</th>\n",
       "      <td>1</td>\n",
       "    </tr>\n",
       "    <tr>\n",
       "      <th>Hasan</th>\n",
       "      <td>42</td>\n",
       "    </tr>\n",
       "    <tr>\n",
       "      <th>Ibrahim</th>\n",
       "      <td>55</td>\n",
       "    </tr>\n",
       "    <tr>\n",
       "      <th>Math</th>\n",
       "      <th>Ghyass</th>\n",
       "      <td>44</td>\n",
       "    </tr>\n",
       "    <tr>\n",
       "      <th rowspan=\"2\" valign=\"top\">Urdu</th>\n",
       "      <th>Qaim</th>\n",
       "      <td>50</td>\n",
       "    </tr>\n",
       "    <tr>\n",
       "      <th>Tabish</th>\n",
       "      <td>22</td>\n",
       "    </tr>\n",
       "  </tbody>\n",
       "</table>\n",
       "</div>"
      ],
      "text/plain": [
       "                      Marks\n",
       "Subject Student Name       \n",
       "Biology Ali              23\n",
       "        Qamer            54\n",
       "Data    Ahmad             1\n",
       "        Hasan            42\n",
       "        Ibrahim          55\n",
       "Math    Ghyass           44\n",
       "Urdu    Qaim             50\n",
       "        Tabish           22"
      ]
     },
     "execution_count": 24,
     "metadata": {},
     "output_type": "execute_result"
    }
   ],
   "source": [
    "marks.groupby(['Subject','Student Name']).agg({'Marks':'sum'})"
   ]
  },
  {
   "cell_type": "code",
   "execution_count": 33,
   "id": "3d80a1f3-6044-412f-8ab2-952e057e5d61",
   "metadata": {},
   "outputs": [
    {
     "data": {
      "text/html": [
       "<div>\n",
       "<style scoped>\n",
       "    .dataframe tbody tr th:only-of-type {\n",
       "        vertical-align: middle;\n",
       "    }\n",
       "\n",
       "    .dataframe tbody tr th {\n",
       "        vertical-align: top;\n",
       "    }\n",
       "\n",
       "    .dataframe thead th {\n",
       "        text-align: right;\n",
       "    }\n",
       "</style>\n",
       "<table border=\"1\" class=\"dataframe\">\n",
       "  <thead>\n",
       "    <tr style=\"text-align: right;\">\n",
       "      <th>Subject</th>\n",
       "      <th>Biology</th>\n",
       "      <th>Data</th>\n",
       "      <th>Math</th>\n",
       "      <th>Urdu</th>\n",
       "    </tr>\n",
       "    <tr>\n",
       "      <th>Student Name</th>\n",
       "      <th></th>\n",
       "      <th></th>\n",
       "      <th></th>\n",
       "      <th></th>\n",
       "    </tr>\n",
       "  </thead>\n",
       "  <tbody>\n",
       "    <tr>\n",
       "      <th>Ahmad</th>\n",
       "      <td>NaN</td>\n",
       "      <td>1.0</td>\n",
       "      <td>NaN</td>\n",
       "      <td>NaN</td>\n",
       "    </tr>\n",
       "    <tr>\n",
       "      <th>Ali</th>\n",
       "      <td>23.0</td>\n",
       "      <td>NaN</td>\n",
       "      <td>NaN</td>\n",
       "      <td>NaN</td>\n",
       "    </tr>\n",
       "    <tr>\n",
       "      <th>Ghyass</th>\n",
       "      <td>NaN</td>\n",
       "      <td>NaN</td>\n",
       "      <td>44.0</td>\n",
       "      <td>NaN</td>\n",
       "    </tr>\n",
       "    <tr>\n",
       "      <th>Hasan</th>\n",
       "      <td>NaN</td>\n",
       "      <td>42.0</td>\n",
       "      <td>NaN</td>\n",
       "      <td>NaN</td>\n",
       "    </tr>\n",
       "    <tr>\n",
       "      <th>Ibrahim</th>\n",
       "      <td>NaN</td>\n",
       "      <td>55.0</td>\n",
       "      <td>NaN</td>\n",
       "      <td>NaN</td>\n",
       "    </tr>\n",
       "    <tr>\n",
       "      <th>Qaim</th>\n",
       "      <td>NaN</td>\n",
       "      <td>NaN</td>\n",
       "      <td>NaN</td>\n",
       "      <td>50.0</td>\n",
       "    </tr>\n",
       "    <tr>\n",
       "      <th>Qamer</th>\n",
       "      <td>54.0</td>\n",
       "      <td>NaN</td>\n",
       "      <td>NaN</td>\n",
       "      <td>NaN</td>\n",
       "    </tr>\n",
       "    <tr>\n",
       "      <th>Tabish</th>\n",
       "      <td>NaN</td>\n",
       "      <td>NaN</td>\n",
       "      <td>NaN</td>\n",
       "      <td>22.0</td>\n",
       "    </tr>\n",
       "  </tbody>\n",
       "</table>\n",
       "</div>"
      ],
      "text/plain": [
       "Subject       Biology  Data  Math  Urdu\n",
       "Student Name                           \n",
       "Ahmad             NaN   1.0   NaN   NaN\n",
       "Ali              23.0   NaN   NaN   NaN\n",
       "Ghyass            NaN   NaN  44.0   NaN\n",
       "Hasan             NaN  42.0   NaN   NaN\n",
       "Ibrahim           NaN  55.0   NaN   NaN\n",
       "Qaim              NaN   NaN   NaN  50.0\n",
       "Qamer            54.0   NaN   NaN   NaN\n",
       "Tabish            NaN   NaN   NaN  22.0"
      ]
     },
     "execution_count": 33,
     "metadata": {},
     "output_type": "execute_result"
    }
   ],
   "source": [
    "pivot = marks.pivot(columns='Subject',index='Student Name',values='Marks')\n",
    "pivot"
   ]
  },
  {
   "cell_type": "code",
   "execution_count": 35,
   "id": "59be1e97-73eb-41ac-86fa-d7cd63d12a31",
   "metadata": {},
   "outputs": [
    {
     "data": {
      "text/plain": [
       "Subject\n",
       "Biology    23.0\n",
       "Data        NaN\n",
       "Math        NaN\n",
       "Urdu        NaN\n",
       "Name: Ali, dtype: float64"
      ]
     },
     "execution_count": 35,
     "metadata": {},
     "output_type": "execute_result"
    }
   ],
   "source": [
    "pivot.loc['Ali']"
   ]
  },
  {
   "cell_type": "code",
   "execution_count": 36,
   "id": "be4d43bd-884a-4cef-a860-7d8e314eee97",
   "metadata": {},
   "outputs": [
    {
     "data": {
      "text/plain": [
       "Subject\n",
       "Biology    77.0\n",
       "Data       98.0\n",
       "Math       44.0\n",
       "Urdu       72.0\n",
       "dtype: float64"
      ]
     },
     "execution_count": 36,
     "metadata": {},
     "output_type": "execute_result"
    }
   ],
   "source": [
    "pivot.sum()"
   ]
  },
  {
   "cell_type": "code",
   "execution_count": 52,
   "id": "59c32e47-98b0-4de1-86e6-787b4b26def6",
   "metadata": {},
   "outputs": [],
   "source": [
    "bios['Born_Details'] = pd.to_datetime(bios['born_date'],errors='coerce')"
   ]
  },
  {
   "cell_type": "code",
   "execution_count": 53,
   "id": "e904c0a5-e60d-4269-a237-1814c90b346e",
   "metadata": {},
   "outputs": [],
   "source": [
    "bios['Born_Year'] = bios['Born_Details'].dt.year"
   ]
  },
  {
   "cell_type": "code",
   "execution_count": 59,
   "id": "4956df08-1da4-4f68-8714-2f25ad67e714",
   "metadata": {},
   "outputs": [
    {
     "data": {
      "text/plain": [
       "Born_Details\n",
       "1828.0      1\n",
       "1831.0      2\n",
       "1833.0      1\n",
       "1836.0      1\n",
       "1837.0      1\n",
       "         ... \n",
       "1895.0    331\n",
       "1896.0    370\n",
       "1897.0    371\n",
       "1898.0    428\n",
       "1899.0    449\n",
       "Name: name, Length: 67, dtype: int64"
      ]
     },
     "execution_count": 59,
     "metadata": {},
     "output_type": "execute_result"
    }
   ],
   "source": [
    "bios.groupby(bios['Born_Details'].dt.year)['name'].count()"
   ]
  },
  {
   "cell_type": "code",
   "execution_count": null,
   "id": "751fd0d9-566e-4589-bc1c-ccb20d91063d",
   "metadata": {},
   "outputs": [],
   "source": []
  }
 ],
 "metadata": {
  "kernelspec": {
   "display_name": "Python 3 (ipykernel)",
   "language": "python",
   "name": "python3"
  },
  "language_info": {
   "codemirror_mode": {
    "name": "ipython",
    "version": 3
   },
   "file_extension": ".py",
   "mimetype": "text/x-python",
   "name": "python",
   "nbconvert_exporter": "python",
   "pygments_lexer": "ipython3",
   "version": "3.12.6"
  }
 },
 "nbformat": 4,
 "nbformat_minor": 5
}
