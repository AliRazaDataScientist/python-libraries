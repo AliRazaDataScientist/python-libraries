{
 "cells": [
  {
   "cell_type": "code",
   "execution_count": 3,
   "id": "aa2d28da-e445-45c3-99b4-052b2c7ee68d",
   "metadata": {},
   "outputs": [],
   "source": [
    "import numpy as np"
   ]
  },
  {
   "cell_type": "code",
   "execution_count": 7,
   "id": "e98e124a-73b5-490d-b128-f393815d3353",
   "metadata": {},
   "outputs": [
    {
     "name": "stdout",
     "output_type": "stream",
     "text": [
      "[[ 5.  6.  7. 32.  1. 23. 33.]\n",
      " [ 4. 54. 66. 11. 99. 34. 88.]\n",
      " [ 2.  5. 43. 55. 56. 76. 99.]]\n"
     ]
    }
   ],
   "source": [
    "get_rec = np.genfromtxt('num.txt',delimiter=',')\n",
    "print(get_rec)"
   ]
  },
  {
   "cell_type": "code",
   "execution_count": 8,
   "id": "552fc98d-88ed-4cbb-883c-ee39d4a39438",
   "metadata": {},
   "outputs": [
    {
     "name": "stdout",
     "output_type": "stream",
     "text": [
      "[[ 5  6  7 32  1 23 33]\n",
      " [ 4 54 66 11 99 34 88]\n",
      " [ 2  5 43 55 56 76 99]]\n"
     ]
    }
   ],
   "source": [
    "p_rec = get_rec.astype('int32')\n",
    "print(p_rec)"
   ]
  },
  {
   "cell_type": "markdown",
   "id": "2d65d03a-467b-4ae5-8c99-3a69b8b7628b",
   "metadata": {},
   "source": [
    "### Boolean Masking and Advanced Indexing"
   ]
  },
  {
   "cell_type": "code",
   "execution_count": 10,
   "id": "bd530ef6-b264-4ca7-834e-476cba0fb0e9",
   "metadata": {},
   "outputs": [
    {
     "data": {
      "text/plain": [
       "array([[ True,  True,  True,  True,  True,  True,  True],\n",
       "       [ True, False, False,  True, False,  True, False],\n",
       "       [ True,  True,  True, False, False, False, False]])"
      ]
     },
     "execution_count": 10,
     "metadata": {},
     "output_type": "execute_result"
    }
   ],
   "source": [
    "p_rec < 50"
   ]
  },
  {
   "cell_type": "code",
   "execution_count": 11,
   "id": "069f7741-c323-42bf-b638-62917a03d9de",
   "metadata": {},
   "outputs": [
    {
     "data": {
      "text/plain": [
       "array([54, 66, 99, 88, 55, 56, 76, 99], dtype=int32)"
      ]
     },
     "execution_count": 11,
     "metadata": {},
     "output_type": "execute_result"
    }
   ],
   "source": [
    "p_rec [p_rec > 50]"
   ]
  },
  {
   "cell_type": "code",
   "execution_count": 26,
   "id": "d30344f0-27ac-4393-b70b-9d25664b4eac",
   "metadata": {},
   "outputs": [
    {
     "data": {
      "text/plain": [
       "array([[ 3,  6,  9, 12, 15, 18, 21, 24, 27, 30, 33],\n",
       "       [ 2,  3, 32,  2,  2,  3, 23, 23, 23, 23, 32]])"
      ]
     },
     "execution_count": 26,
     "metadata": {},
     "output_type": "execute_result"
    }
   ],
   "source": [
    "xyz = np.array([[3,6,9,12,15,18,21,24,27,30,33],[2,3,32,2,2,3,23,23,23,23,32]])\n",
    "xyz"
   ]
  },
  {
   "cell_type": "code",
   "execution_count": 27,
   "id": "69baa5c8-ffb7-48e4-b66f-c2626fdb7ca2",
   "metadata": {},
   "outputs": [
    {
     "name": "stdout",
     "output_type": "stream",
     "text": [
      "[[15 18 21]\n",
      " [ 2  3 23]]\n"
     ]
    }
   ],
   "source": [
    "t = xyz[:,[4,5,6]]\n",
    "print(t)"
   ]
  },
  {
   "cell_type": "code",
   "execution_count": 32,
   "id": "871ba21f-852e-453f-bfe1-024a041ff5ea",
   "metadata": {},
   "outputs": [
    {
     "data": {
      "text/plain": [
       "array([False, False,  True, False, False, False,  True,  True,  True,\n",
       "        True,  True])"
      ]
     },
     "execution_count": 32,
     "metadata": {},
     "output_type": "execute_result"
    }
   ],
   "source": [
    "np.any(xyz>20, axis=0)"
   ]
  },
  {
   "cell_type": "code",
   "execution_count": null,
   "id": "ef1771f6-e4ac-4a49-b795-2e8ec9a0cf1d",
   "metadata": {},
   "outputs": [],
   "source": []
  }
 ],
 "metadata": {
  "kernelspec": {
   "display_name": "Python 3 (ipykernel)",
   "language": "python",
   "name": "python3"
  },
  "language_info": {
   "codemirror_mode": {
    "name": "ipython",
    "version": 3
   },
   "file_extension": ".py",
   "mimetype": "text/x-python",
   "name": "python",
   "nbconvert_exporter": "python",
   "pygments_lexer": "ipython3",
   "version": "3.12.6"
  }
 },
 "nbformat": 4,
 "nbformat_minor": 5
}
