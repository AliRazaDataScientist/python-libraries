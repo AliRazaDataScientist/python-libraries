{
 "cells": [
  {
   "cell_type": "markdown",
   "id": "8d8f832d-1e49-49cc-a1fc-0993cf76b71a",
   "metadata": {},
   "source": [
    "# Math Practice\n"
   ]
  },
  {
   "cell_type": "code",
   "execution_count": 1,
   "id": "5d640caa-2c66-469a-b1a5-ead3021a8873",
   "metadata": {},
   "outputs": [],
   "source": [
    "import numpy as np"
   ]
  },
  {
   "cell_type": "code",
   "execution_count": 3,
   "id": "d67f77b5-d56b-4fdb-9936-877bf9e13714",
   "metadata": {},
   "outputs": [
    {
     "name": "stdout",
     "output_type": "stream",
     "text": [
      "[1 2 3 4 5]\n"
     ]
    }
   ],
   "source": [
    "a = np.array([1,2,3,4,5])\n",
    "print(a)"
   ]
  },
  {
   "cell_type": "code",
   "execution_count": 4,
   "id": "697d47ac-055b-410f-822a-f28b35440651",
   "metadata": {},
   "outputs": [
    {
     "data": {
      "text/plain": [
       "array([ 2,  4,  6,  8, 10])"
      ]
     },
     "execution_count": 4,
     "metadata": {},
     "output_type": "execute_result"
    }
   ],
   "source": [
    "a*2"
   ]
  },
  {
   "cell_type": "code",
   "execution_count": 5,
   "id": "be086251-6470-45c5-bf0e-50f9d129687a",
   "metadata": {},
   "outputs": [
    {
     "data": {
      "text/plain": [
       "array([0.5, 1. , 1.5, 2. , 2.5])"
      ]
     },
     "execution_count": 5,
     "metadata": {},
     "output_type": "execute_result"
    }
   ],
   "source": [
    "a/2"
   ]
  },
  {
   "cell_type": "code",
   "execution_count": 6,
   "id": "86a876f9-cd69-4d78-9515-7f5ce62ee5e3",
   "metadata": {},
   "outputs": [
    {
     "data": {
      "text/plain": [
       "array([2, 3, 4, 5, 6])"
      ]
     },
     "execution_count": 6,
     "metadata": {},
     "output_type": "execute_result"
    }
   ],
   "source": [
    "a+1"
   ]
  },
  {
   "cell_type": "code",
   "execution_count": 7,
   "id": "8e79ca09-a571-4bb9-92dd-323be176aabe",
   "metadata": {},
   "outputs": [
    {
     "data": {
      "text/plain": [
       "array([0, 1, 2, 3, 4])"
      ]
     },
     "execution_count": 7,
     "metadata": {},
     "output_type": "execute_result"
    }
   ],
   "source": [
    "a-1"
   ]
  },
  {
   "cell_type": "code",
   "execution_count": 8,
   "id": "00648a9c-938b-45bc-aa6f-367ed6732b70",
   "metadata": {},
   "outputs": [
    {
     "data": {
      "text/plain": [
       "array([ 1,  4,  9, 16, 25])"
      ]
     },
     "execution_count": 8,
     "metadata": {},
     "output_type": "execute_result"
    }
   ],
   "source": [
    "a**2"
   ]
  },
  {
   "cell_type": "code",
   "execution_count": 9,
   "id": "789db8c3-1219-459a-83c4-c7c312beef53",
   "metadata": {},
   "outputs": [],
   "source": [
    "b = np.array([10,9,8,7,6])"
   ]
  },
  {
   "cell_type": "code",
   "execution_count": 10,
   "id": "74ee5e07-8e74-4af6-8539-61c67975a634",
   "metadata": {},
   "outputs": [
    {
     "data": {
      "text/plain": [
       "array([11, 11, 11, 11, 11])"
      ]
     },
     "execution_count": 10,
     "metadata": {},
     "output_type": "execute_result"
    }
   ],
   "source": [
    "a+b"
   ]
  },
  {
   "cell_type": "code",
   "execution_count": 12,
   "id": "e3aa3340-643a-4450-bea1-0a0dbe6b4b92",
   "metadata": {},
   "outputs": [
    {
     "name": "stdout",
     "output_type": "stream",
     "text": [
      "[[1. 1. 1.]\n",
      " [1. 1. 1.]]\n"
     ]
    }
   ],
   "source": [
    "x = np.ones((2,3))\n",
    "print(x)"
   ]
  },
  {
   "cell_type": "code",
   "execution_count": 13,
   "id": "3b5915bb-a437-4a44-90f0-ec6b57117d5a",
   "metadata": {},
   "outputs": [
    {
     "name": "stdout",
     "output_type": "stream",
     "text": [
      "[[2 2]\n",
      " [2 2]\n",
      " [2 2]]\n"
     ]
    }
   ],
   "source": [
    "y = np.full((3,2),2)\n",
    "print(y)"
   ]
  },
  {
   "cell_type": "code",
   "execution_count": 15,
   "id": "d50da17f-0220-4689-9bf2-5cff7c9ad3b0",
   "metadata": {},
   "outputs": [
    {
     "data": {
      "text/plain": [
       "array([[6., 6.],\n",
       "       [6., 6.]])"
      ]
     },
     "execution_count": 15,
     "metadata": {},
     "output_type": "execute_result"
    }
   ],
   "source": [
    "np.matmul(x,y)"
   ]
  },
  {
   "cell_type": "code",
   "execution_count": 18,
   "id": "03dce723-cda0-4134-a0c0-73c09807bcc1",
   "metadata": {},
   "outputs": [
    {
     "data": {
      "text/plain": [
       "np.float64(1.0)"
      ]
     },
     "execution_count": 18,
     "metadata": {},
     "output_type": "execute_result"
    }
   ],
   "source": [
    "c = np.identity(5)\n",
    "np.linalg.det(c)"
   ]
  },
  {
   "cell_type": "markdown",
   "id": "2faf2383-134c-479f-af40-a5f3d504f54c",
   "metadata": {},
   "source": [
    "#### Reorganizing Arrays"
   ]
  },
  {
   "cell_type": "code",
   "execution_count": 21,
   "id": "0347481f-5167-4fa6-b33c-3af186eb6a25",
   "metadata": {},
   "outputs": [
    {
     "name": "stdout",
     "output_type": "stream",
     "text": [
      "[[ 2  3  4  5]\n",
      " [29 78  7  6]\n",
      " [ 5 24 13  0]]\n"
     ]
    }
   ],
   "source": [
    "a = np.array([[2,3,4,5],[29,78,7,6],[5,24,13,0]])\n",
    "print(a)"
   ]
  },
  {
   "cell_type": "code",
   "execution_count": 22,
   "id": "5882b145-2cc9-4ce5-b67a-f64b31cb945e",
   "metadata": {},
   "outputs": [
    {
     "data": {
      "text/plain": [
       "(3, 4)"
      ]
     },
     "execution_count": 22,
     "metadata": {},
     "output_type": "execute_result"
    }
   ],
   "source": [
    "np.shape(a)"
   ]
  },
  {
   "cell_type": "code",
   "execution_count": 26,
   "id": "a6c4d97b-0708-4f70-b9a8-76343c82faa3",
   "metadata": {},
   "outputs": [
    {
     "data": {
      "text/plain": [
       "array([[ 2,  3],\n",
       "       [ 4,  5],\n",
       "       [29, 78],\n",
       "       [ 7,  6],\n",
       "       [ 5, 24],\n",
       "       [13,  0]])"
      ]
     },
     "execution_count": 26,
     "metadata": {},
     "output_type": "execute_result"
    }
   ],
   "source": [
    "a.reshape(6,2)"
   ]
  },
  {
   "cell_type": "code",
   "execution_count": 28,
   "id": "23bb8f54-840b-4deb-9cd1-ad4ce2558efd",
   "metadata": {},
   "outputs": [
    {
     "data": {
      "text/plain": [
       "array([ 2,  3,  4,  5, 29, 78,  7,  6,  5, 24, 13,  0])"
      ]
     },
     "execution_count": 28,
     "metadata": {},
     "output_type": "execute_result"
    }
   ],
   "source": [
    "np.ravel(a)"
   ]
  },
  {
   "cell_type": "code",
   "execution_count": 29,
   "id": "0da6bb4f-af15-4dea-9181-3090a27dc7da",
   "metadata": {},
   "outputs": [],
   "source": [
    "x = [4,15,6,1]\n",
    "y = [0,4,6,1]"
   ]
  },
  {
   "cell_type": "code",
   "execution_count": 30,
   "id": "aedda63e-016d-4280-b6ce-0009d42b4e61",
   "metadata": {},
   "outputs": [
    {
     "name": "stdout",
     "output_type": "stream",
     "text": [
      "[4, 15, 6, 1]\n",
      "[0, 4, 6, 1]\n"
     ]
    }
   ],
   "source": [
    "print(x)\n",
    "print(y)"
   ]
  },
  {
   "cell_type": "code",
   "execution_count": 32,
   "id": "7d05cfe8-c915-4290-af1c-48c735d56379",
   "metadata": {},
   "outputs": [
    {
     "data": {
      "text/plain": [
       "array([[ 0,  4,  6,  1],\n",
       "       [ 4, 15,  6,  1],\n",
       "       [ 4, 15,  6,  1],\n",
       "       [ 0,  4,  6,  1]])"
      ]
     },
     "execution_count": 32,
     "metadata": {},
     "output_type": "execute_result"
    }
   ],
   "source": [
    "np.vstack([y,x,x,y])"
   ]
  },
  {
   "cell_type": "code",
   "execution_count": 43,
   "id": "a086b92e-8d0b-44ca-b05f-dd012ef55624",
   "metadata": {},
   "outputs": [
    {
     "name": "stdout",
     "output_type": "stream",
     "text": [
      "[[4 6 3 5]\n",
      " [6 4 3 7]\n",
      " [8 4 7 2]]\n",
      "[[5 9 2 4]\n",
      " [6 4 3 7]\n",
      " [8 4 7 2]]\n"
     ]
    }
   ],
   "source": [
    "x1 = np.array([[4,6,3,5],[6,4,3,7],[8,4,7,2]])\n",
    "print(x1)\n",
    "x2 = np.array([[5,9,2,4],[6,4,3,7],[8,4,7,2]])\n",
    "print(x2)"
   ]
  },
  {
   "cell_type": "code",
   "execution_count": 44,
   "id": "25042858-a378-49d9-9f6f-be1a06081f4d",
   "metadata": {},
   "outputs": [
    {
     "data": {
      "text/plain": [
       "array([[4, 6, 3, 5],\n",
       "       [6, 4, 3, 7],\n",
       "       [8, 4, 7, 2],\n",
       "       [5, 9, 2, 4],\n",
       "       [6, 4, 3, 7],\n",
       "       [8, 4, 7, 2]])"
      ]
     },
     "execution_count": 44,
     "metadata": {},
     "output_type": "execute_result"
    }
   ],
   "source": [
    "np.vstack([x1,x2])"
   ]
  },
  {
   "cell_type": "code",
   "execution_count": 45,
   "id": "9c7da0d8-57c2-4e6f-a14b-bfe7c504fa05",
   "metadata": {},
   "outputs": [
    {
     "data": {
      "text/plain": [
       "array([[4, 6, 3, 5, 5, 9, 2, 4],\n",
       "       [6, 4, 3, 7, 6, 4, 3, 7],\n",
       "       [8, 4, 7, 2, 8, 4, 7, 2]])"
      ]
     },
     "execution_count": 45,
     "metadata": {},
     "output_type": "execute_result"
    }
   ],
   "source": [
    "np.hstack([x1,x2])"
   ]
  },
  {
   "cell_type": "code",
   "execution_count": null,
   "id": "11f95b41-1d3a-436c-a3b8-570548791a94",
   "metadata": {},
   "outputs": [],
   "source": []
  }
 ],
 "metadata": {
  "kernelspec": {
   "display_name": "Python 3 (ipykernel)",
   "language": "python",
   "name": "python3"
  },
  "language_info": {
   "codemirror_mode": {
    "name": "ipython",
    "version": 3
   },
   "file_extension": ".py",
   "mimetype": "text/x-python",
   "name": "python",
   "nbconvert_exporter": "python",
   "pygments_lexer": "ipython3",
   "version": "3.12.6"
  }
 },
 "nbformat": 4,
 "nbformat_minor": 5
}
