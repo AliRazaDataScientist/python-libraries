{
 "cells": [
  {
   "cell_type": "code",
   "execution_count": 2,
   "id": "08548c33-f249-4f7e-94c9-6b3d6ac058cc",
   "metadata": {},
   "outputs": [],
   "source": [
    "import numpy as np"
   ]
  },
  {
   "cell_type": "code",
   "execution_count": 25,
   "id": "2ed627f9-5ff7-44ae-8143-77f927454cc7",
   "metadata": {},
   "outputs": [],
   "source": [
    "a = np.array([1,2,3,4,5],np.int16)"
   ]
  },
  {
   "cell_type": "code",
   "execution_count": 4,
   "id": "7e9da15b-cfc1-4e41-9883-1132c251dc7a",
   "metadata": {},
   "outputs": [
    {
     "data": {
      "text/plain": [
       "array([1, 2, 3, 4, 5])"
      ]
     },
     "execution_count": 4,
     "metadata": {},
     "output_type": "execute_result"
    }
   ],
   "source": [
    "a"
   ]
  },
  {
   "cell_type": "code",
   "execution_count": 5,
   "id": "0be1f888-5356-4ce4-9aac-4f4f519a467e",
   "metadata": {},
   "outputs": [
    {
     "name": "stdout",
     "output_type": "stream",
     "text": [
      "[1 2 3 4 5]\n"
     ]
    }
   ],
   "source": [
    "print(a)"
   ]
  },
  {
   "cell_type": "code",
   "execution_count": 6,
   "id": "554a4f1a-c719-4fca-88d9-3432855daaed",
   "metadata": {},
   "outputs": [
    {
     "data": {
      "text/plain": [
       "(5,)"
      ]
     },
     "execution_count": 6,
     "metadata": {},
     "output_type": "execute_result"
    }
   ],
   "source": [
    "a.shape"
   ]
  },
  {
   "cell_type": "code",
   "execution_count": 21,
   "id": "7d6f5775-18ab-4bc0-98ae-0e7cbabfcbb8",
   "metadata": {},
   "outputs": [],
   "source": [
    "b = np.array([[8,9,0],[5,2,7],[1,47,4]],np.int8)"
   ]
  },
  {
   "cell_type": "code",
   "execution_count": 13,
   "id": "2e852b84-2286-4654-aca6-d04714218f9f",
   "metadata": {},
   "outputs": [
    {
     "data": {
      "text/plain": [
       "array([[8, 9, 0],\n",
       "       [5, 2, 7]])"
      ]
     },
     "execution_count": 13,
     "metadata": {},
     "output_type": "execute_result"
    }
   ],
   "source": [
    "b"
   ]
  },
  {
   "cell_type": "code",
   "execution_count": 14,
   "id": "eb8c6070-95a7-4631-ae9b-1b421cc93714",
   "metadata": {},
   "outputs": [
    {
     "data": {
      "text/plain": [
       "(2, 3)"
      ]
     },
     "execution_count": 14,
     "metadata": {},
     "output_type": "execute_result"
    }
   ],
   "source": [
    "b.shape"
   ]
  },
  {
   "cell_type": "code",
   "execution_count": 15,
   "id": "eba5dee8-88bc-46a0-afbf-3099d276626a",
   "metadata": {},
   "outputs": [
    {
     "data": {
      "text/plain": [
       "1"
      ]
     },
     "execution_count": 15,
     "metadata": {},
     "output_type": "execute_result"
    }
   ],
   "source": [
    "a.ndim"
   ]
  },
  {
   "cell_type": "code",
   "execution_count": 19,
   "id": "629acdc1-26c0-48f3-b647-fc878d1cf774",
   "metadata": {},
   "outputs": [
    {
     "data": {
      "text/plain": [
       "2"
      ]
     },
     "execution_count": 19,
     "metadata": {},
     "output_type": "execute_result"
    }
   ],
   "source": [
    "b.ndim"
   ]
  },
  {
   "cell_type": "code",
   "execution_count": 22,
   "id": "281723c5-5deb-4702-9aaa-a9cd0bacdf94",
   "metadata": {},
   "outputs": [
    {
     "data": {
      "text/plain": [
       "dtype('int8')"
      ]
     },
     "execution_count": 22,
     "metadata": {},
     "output_type": "execute_result"
    }
   ],
   "source": [
    "b.dtype"
   ]
  },
  {
   "cell_type": "code",
   "execution_count": 23,
   "id": "7c54498b-76ae-4349-bf05-40075ac89d02",
   "metadata": {},
   "outputs": [
    {
     "data": {
      "text/plain": [
       "1"
      ]
     },
     "execution_count": 23,
     "metadata": {},
     "output_type": "execute_result"
    }
   ],
   "source": [
    "b.itemsize"
   ]
  },
  {
   "cell_type": "code",
   "execution_count": 26,
   "id": "dff16ea4-134f-4e7a-acf9-fb3f0b81cd6c",
   "metadata": {},
   "outputs": [
    {
     "data": {
      "text/plain": [
       "2"
      ]
     },
     "execution_count": 26,
     "metadata": {},
     "output_type": "execute_result"
    }
   ],
   "source": [
    "a.itemsize"
   ]
  },
  {
   "cell_type": "code",
   "execution_count": 4,
   "id": "61ecc1ed-beb8-4679-a522-e207c3260ae9",
   "metadata": {},
   "outputs": [],
   "source": [
    "x = np.array([[4,5,6,73,21,33],[65,89,8,65,54,66],[76,86,45,44,78,24]], np.int64)"
   ]
  },
  {
   "cell_type": "code",
   "execution_count": 5,
   "id": "6db9f3f5-ce8d-4f0a-bd4f-a4c70d063863",
   "metadata": {},
   "outputs": [
    {
     "data": {
      "text/plain": [
       "array([[ 4,  5,  6, 73, 21, 33],\n",
       "       [65, 89,  8, 65, 54, 66],\n",
       "       [76, 86, 45, 44, 78, 24]])"
      ]
     },
     "execution_count": 5,
     "metadata": {},
     "output_type": "execute_result"
    }
   ],
   "source": [
    "x"
   ]
  },
  {
   "cell_type": "code",
   "execution_count": 8,
   "id": "bc575112-976b-4215-974b-9782208d8ad9",
   "metadata": {},
   "outputs": [
    {
     "data": {
      "text/plain": [
       "array([ 5, 89, 86])"
      ]
     },
     "execution_count": 8,
     "metadata": {},
     "output_type": "execute_result"
    }
   ],
   "source": [
    "x[:,1]"
   ]
  },
  {
   "cell_type": "code",
   "execution_count": 10,
   "id": "8eef1536-0040-40bc-9987-440bf31937fc",
   "metadata": {},
   "outputs": [],
   "source": [
    "x[2,5] = 5"
   ]
  },
  {
   "cell_type": "code",
   "execution_count": 11,
   "id": "e2074ba0-c282-44e3-abf9-c79a529519b6",
   "metadata": {},
   "outputs": [
    {
     "data": {
      "text/plain": [
       "array([[ 4,  5,  6, 73, 21, 33],\n",
       "       [65, 89,  8, 65, 54, 66],\n",
       "       [76, 86, 45, 44, 78, 55]])"
      ]
     },
     "execution_count": 11,
     "metadata": {},
     "output_type": "execute_result"
    }
   ],
   "source": [
    "x"
   ]
  },
  {
   "cell_type": "code",
   "execution_count": 14,
   "id": "2fa82d01-bdc0-4051-98df-beef80cbb0ff",
   "metadata": {},
   "outputs": [
    {
     "data": {
      "text/plain": [
       "array([45, 44, 78, 55])"
      ]
     },
     "execution_count": 14,
     "metadata": {},
     "output_type": "execute_result"
    }
   ],
   "source": [
    "x[2,2:6]"
   ]
  },
  {
   "cell_type": "code",
   "execution_count": 29,
   "id": "eed41ae2-3775-4b28-9075-ed5488ea71cc",
   "metadata": {},
   "outputs": [],
   "source": [
    "x[0,-4:-1] = [10,20,30]"
   ]
  },
  {
   "cell_type": "code",
   "execution_count": 30,
   "id": "c0ab6585-1475-4f4f-8b70-e1d60c7ba9bb",
   "metadata": {},
   "outputs": [
    {
     "data": {
      "text/plain": [
       "array([[ 4,  5, 10, 20, 30, 33],\n",
       "       [65, 89,  8, 20, 54, 66],\n",
       "       [76, 86, 10, 20, 30, 30]])"
      ]
     },
     "execution_count": 30,
     "metadata": {},
     "output_type": "execute_result"
    }
   ],
   "source": [
    "x\n"
   ]
  },
  {
   "cell_type": "code",
   "execution_count": 38,
   "id": "54b2ee98-7eb0-4788-b249-e07c7b1eba16",
   "metadata": {},
   "outputs": [],
   "source": [
    "d = np.array([[[1,2],[3,4]],[[5,6],[7,8]]])"
   ]
  },
  {
   "cell_type": "code",
   "execution_count": 39,
   "id": "0bdee7eb-c617-4df6-b1d4-d2ade3b3b4ee",
   "metadata": {},
   "outputs": [
    {
     "data": {
      "text/plain": [
       "array([[[1, 2],\n",
       "        [3, 4]],\n",
       "\n",
       "       [[5, 6],\n",
       "        [7, 8]]])"
      ]
     },
     "execution_count": 39,
     "metadata": {},
     "output_type": "execute_result"
    }
   ],
   "source": [
    "d"
   ]
  },
  {
   "cell_type": "code",
   "execution_count": 40,
   "id": "9ec04e58-c83b-42db-957e-cc9c0d128488",
   "metadata": {},
   "outputs": [
    {
     "data": {
      "text/plain": [
       "np.int64(8)"
      ]
     },
     "execution_count": 40,
     "metadata": {},
     "output_type": "execute_result"
    }
   ],
   "source": [
    "d[1,1,1]"
   ]
  },
  {
   "cell_type": "code",
   "execution_count": 41,
   "id": "a1715fd4-943e-4ad1-8734-036729a518c6",
   "metadata": {},
   "outputs": [
    {
     "data": {
      "text/plain": [
       "np.int64(3)"
      ]
     },
     "execution_count": 41,
     "metadata": {},
     "output_type": "execute_result"
    }
   ],
   "source": [
    "d[0,1,0]"
   ]
  },
  {
   "cell_type": "code",
   "execution_count": 45,
   "id": "ddb9a009-16a6-40c5-8932-57479afaa007",
   "metadata": {},
   "outputs": [
    {
     "data": {
      "text/plain": [
       "array([7, 8])"
      ]
     },
     "execution_count": 45,
     "metadata": {},
     "output_type": "execute_result"
    }
   ],
   "source": [
    "d[1,1,:]"
   ]
  },
  {
   "cell_type": "code",
   "execution_count": 47,
   "id": "a8a2e147-ddbc-4843-86c7-16b1add81ee9",
   "metadata": {},
   "outputs": [],
   "source": [
    "d[:,:,1] = 0"
   ]
  },
  {
   "cell_type": "code",
   "execution_count": 48,
   "id": "4519be6b-583f-4600-877c-9ce9032cd423",
   "metadata": {},
   "outputs": [
    {
     "data": {
      "text/plain": [
       "array([[[1, 0],\n",
       "        [3, 0]],\n",
       "\n",
       "       [[5, 0],\n",
       "        [7, 0]]])"
      ]
     },
     "execution_count": 48,
     "metadata": {},
     "output_type": "execute_result"
    }
   ],
   "source": [
    "d"
   ]
  },
  {
   "cell_type": "code",
   "execution_count": 52,
   "id": "e3eca78d-9dba-4926-9aa7-7eb874c42475",
   "metadata": {},
   "outputs": [
    {
     "data": {
      "text/plain": [
       "array([[0, 0],\n",
       "       [0, 0]])"
      ]
     },
     "execution_count": 52,
     "metadata": {},
     "output_type": "execute_result"
    }
   ],
   "source": [
    "d[:,:,1]"
   ]
  },
  {
   "cell_type": "code",
   "execution_count": 58,
   "id": "9093ef82-6c19-48a4-a04e-9af342ca9bcc",
   "metadata": {},
   "outputs": [],
   "source": [
    "d[:,:,1] = [[4,3],[2,1]]"
   ]
  },
  {
   "cell_type": "code",
   "execution_count": 59,
   "id": "46960f02-0b30-472c-9222-19cb22ea2fe8",
   "metadata": {},
   "outputs": [
    {
     "data": {
      "text/plain": [
       "array([[[1, 4],\n",
       "        [3, 3]],\n",
       "\n",
       "       [[5, 2],\n",
       "        [7, 1]]])"
      ]
     },
     "execution_count": 59,
     "metadata": {},
     "output_type": "execute_result"
    }
   ],
   "source": [
    "d"
   ]
  },
  {
   "cell_type": "code",
   "execution_count": 80,
   "id": "fec11cbf-2086-43b6-91fd-6a9af34787af",
   "metadata": {},
   "outputs": [
    {
     "data": {
      "text/plain": [
       "array([[9., 9.],\n",
       "       [9., 9.]], dtype=float16)"
      ]
     },
     "execution_count": 80,
     "metadata": {},
     "output_type": "execute_result"
    }
   ],
   "source": [
    "np.full((2,2),9, np.float16)"
   ]
  },
  {
   "cell_type": "code",
   "execution_count": 90,
   "id": "da8c310c-fecd-498d-839e-dacb90129575",
   "metadata": {},
   "outputs": [
    {
     "data": {
      "text/plain": [
       "array([[5, 5, 5, 5, 5, 5],\n",
       "       [5, 5, 5, 5, 5, 5],\n",
       "       [5, 5, 5, 5, 5, 5]])"
      ]
     },
     "execution_count": 90,
     "metadata": {},
     "output_type": "execute_result"
    }
   ],
   "source": [
    "np.full(x.shape,5)"
   ]
  },
  {
   "cell_type": "code",
   "execution_count": 91,
   "id": "d4e77eb8-44a3-43ca-a8f6-822ccc0eac0a",
   "metadata": {},
   "outputs": [
    {
     "data": {
      "text/plain": [
       "(3, 6)"
      ]
     },
     "execution_count": 91,
     "metadata": {},
     "output_type": "execute_result"
    }
   ],
   "source": [
    "x.shape"
   ]
  },
  {
   "cell_type": "code",
   "execution_count": 92,
   "id": "a5d492f3-1411-4843-b798-c9e91e12fd74",
   "metadata": {},
   "outputs": [
    {
     "data": {
      "text/plain": [
       "18"
      ]
     },
     "execution_count": 92,
     "metadata": {},
     "output_type": "execute_result"
    }
   ],
   "source": [
    "x.size"
   ]
  },
  {
   "cell_type": "code",
   "execution_count": 94,
   "id": "15345e8c-77f0-4af3-8594-c6031923451d",
   "metadata": {},
   "outputs": [
    {
     "data": {
      "text/plain": [
       "array([[0.8183955 , 0.8110502 , 0.82891281, 0.60235137],\n",
       "       [0.57992193, 0.62315258, 0.64949838, 0.99182423],\n",
       "       [0.77697698, 0.80168348, 0.66963752, 0.92622694]])"
      ]
     },
     "execution_count": 94,
     "metadata": {},
     "output_type": "execute_result"
    }
   ],
   "source": [
    "np.random.rand(3,4)"
   ]
  },
  {
   "cell_type": "code",
   "execution_count": 107,
   "id": "6c12b406-6eda-4882-b158-83c9c830aa00",
   "metadata": {},
   "outputs": [
    {
     "data": {
      "text/plain": [
       "array([[93, 92],\n",
       "       [97, 90]], dtype=int32)"
      ]
     },
     "execution_count": 107,
     "metadata": {},
     "output_type": "execute_result"
    }
   ],
   "source": [
    "np.random.randint(90,99,size=(2,2))"
   ]
  },
  {
   "cell_type": "code",
   "execution_count": 108,
   "id": "1277956f-a538-40ef-b07f-971d41b5728b",
   "metadata": {},
   "outputs": [
    {
     "data": {
      "text/plain": [
       "array([[1., 0., 0., 0.],\n",
       "       [0., 1., 0., 0.],\n",
       "       [0., 0., 1., 0.],\n",
       "       [0., 0., 0., 1.]])"
      ]
     },
     "execution_count": 108,
     "metadata": {},
     "output_type": "execute_result"
    }
   ],
   "source": [
    "np.identity(4)"
   ]
  },
  {
   "cell_type": "code",
   "execution_count": 113,
   "id": "2d090a7f-c64f-456a-9cdd-80b7296e49f2",
   "metadata": {},
   "outputs": [],
   "source": [
    "rep = np.repeat([[1,2,3]],4,axis=0)"
   ]
  },
  {
   "cell_type": "code",
   "execution_count": 114,
   "id": "ebbbcef5-0e01-49c5-8186-7b05353b969e",
   "metadata": {},
   "outputs": [
    {
     "data": {
      "text/plain": [
       "array([[1, 2, 3],\n",
       "       [1, 2, 3],\n",
       "       [1, 2, 3],\n",
       "       [1, 2, 3]])"
      ]
     },
     "execution_count": 114,
     "metadata": {},
     "output_type": "execute_result"
    }
   ],
   "source": [
    "rep"
   ]
  },
  {
   "cell_type": "code",
   "execution_count": 179,
   "id": "fb103622-c8f1-43cd-aa48-68fb02d04c31",
   "metadata": {},
   "outputs": [],
   "source": [
    "ones = np.ones((5,5))"
   ]
  },
  {
   "cell_type": "code",
   "execution_count": 180,
   "id": "302fa77a-5194-4dab-91f9-272793f665d1",
   "metadata": {},
   "outputs": [
    {
     "data": {
      "text/plain": [
       "array([[1., 1., 1., 1., 1.],\n",
       "       [1., 1., 1., 1., 1.],\n",
       "       [1., 1., 1., 1., 1.],\n",
       "       [1., 1., 1., 1., 1.],\n",
       "       [1., 1., 1., 1., 1.]])"
      ]
     },
     "execution_count": 180,
     "metadata": {},
     "output_type": "execute_result"
    }
   ],
   "source": [
    "ones"
   ]
  },
  {
   "cell_type": "code",
   "execution_count": 169,
   "id": "1e2543a1-7cf6-49d6-a047-82b1bebdb6ca",
   "metadata": {},
   "outputs": [],
   "source": [
    "zeros = np.zeros((3,3))"
   ]
  },
  {
   "cell_type": "code",
   "execution_count": 170,
   "id": "3739a51c-5d95-418d-8c61-d6980e15bf53",
   "metadata": {},
   "outputs": [
    {
     "data": {
      "text/plain": [
       "array([[0., 0., 0.],\n",
       "       [0., 0., 0.],\n",
       "       [0., 0., 0.]])"
      ]
     },
     "execution_count": 170,
     "metadata": {},
     "output_type": "execute_result"
    }
   ],
   "source": [
    "zeros"
   ]
  },
  {
   "cell_type": "code",
   "execution_count": 171,
   "id": "ddf63049-7bf8-41a7-a5b6-5186bcce0fd2",
   "metadata": {},
   "outputs": [],
   "source": [
    "zeros[1,1] = 9"
   ]
  },
  {
   "cell_type": "code",
   "execution_count": 172,
   "id": "d513fd5e-4a64-4912-9d8c-7d6f68a4e851",
   "metadata": {},
   "outputs": [
    {
     "data": {
      "text/plain": [
       "array([[0., 0., 0.],\n",
       "       [0., 9., 0.],\n",
       "       [0., 0., 0.]])"
      ]
     },
     "execution_count": 172,
     "metadata": {},
     "output_type": "execute_result"
    }
   ],
   "source": [
    "zeros"
   ]
  },
  {
   "cell_type": "code",
   "execution_count": 181,
   "id": "9b7e8902-0dc1-47ae-b00d-3b5286faeff1",
   "metadata": {},
   "outputs": [],
   "source": [
    "ones[1:-1,1:-1] = zeros"
   ]
  },
  {
   "cell_type": "code",
   "execution_count": 182,
   "id": "c15c5977-4593-4b5b-8475-0e334a9c699a",
   "metadata": {},
   "outputs": [
    {
     "data": {
      "text/plain": [
       "array([[1., 1., 1., 1., 1.],\n",
       "       [1., 0., 0., 0., 1.],\n",
       "       [1., 0., 9., 0., 1.],\n",
       "       [1., 0., 0., 0., 1.],\n",
       "       [1., 1., 1., 1., 1.]])"
      ]
     },
     "execution_count": 182,
     "metadata": {},
     "output_type": "execute_result"
    }
   ],
   "source": [
    "ones"
   ]
  },
  {
   "cell_type": "code",
   "execution_count": 4,
   "id": "66b1280e-c8ca-4843-9714-4b4819fad64d",
   "metadata": {},
   "outputs": [
    {
     "name": "stdout",
     "output_type": "stream",
     "text": [
      "[1 5 3]\n",
      "[1 2 3]\n"
     ]
    }
   ],
   "source": [
    "a = np.array([1,2,3])\n",
    "b = a.copy()\n",
    "b[1] = 5 \n",
    "print(b)\n",
    "print(a)"
   ]
  },
  {
   "cell_type": "code",
   "execution_count": null,
   "id": "1bd6ebd6-4ef1-4d94-a51d-2851ab96e120",
   "metadata": {},
   "outputs": [],
   "source": []
  }
 ],
 "metadata": {
  "kernelspec": {
   "display_name": "Python 3 (ipykernel)",
   "language": "python",
   "name": "python3"
  },
  "language_info": {
   "codemirror_mode": {
    "name": "ipython",
    "version": 3
   },
   "file_extension": ".py",
   "mimetype": "text/x-python",
   "name": "python",
   "nbconvert_exporter": "python",
   "pygments_lexer": "ipython3",
   "version": "3.12.6"
  }
 },
 "nbformat": 4,
 "nbformat_minor": 5
}
