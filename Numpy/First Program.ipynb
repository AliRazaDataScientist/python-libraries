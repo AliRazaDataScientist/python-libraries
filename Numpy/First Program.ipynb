{
 "cells": [
  {
   "cell_type": "code",
   "execution_count": 1,
   "id": "5366cbf8-7eac-47eb-843a-f85eba9a8a8b",
   "metadata": {},
   "outputs": [],
   "source": [
    "import numpy as np"
   ]
  },
  {
   "cell_type": "code",
   "execution_count": 11,
   "id": "710c3f69-3dab-4cba-8755-c005ec016d9a",
   "metadata": {},
   "outputs": [],
   "source": [
    "arr = np.array([[98,32,44,11,42,34],[12,34,54,23,22,12]], np.int16)"
   ]
  },
  {
   "cell_type": "code",
   "execution_count": 3,
   "id": "a76c54c7-9078-42d2-8885-a253d3df9a74",
   "metadata": {},
   "outputs": [
    {
     "data": {
      "text/plain": [
       "array([[98, 32, 44, 11, 42, 34],\n",
       "       [12, 34, 54, 23, 22, 12]])"
      ]
     },
     "execution_count": 3,
     "metadata": {},
     "output_type": "execute_result"
    }
   ],
   "source": [
    "arr"
   ]
  },
  {
   "cell_type": "code",
   "execution_count": 4,
   "id": "f0b0af9a-faed-4074-936f-32876fd64e9e",
   "metadata": {},
   "outputs": [
    {
     "data": {
      "text/plain": [
       "array([12, 34, 54, 23, 22, 12])"
      ]
     },
     "execution_count": 4,
     "metadata": {},
     "output_type": "execute_result"
    }
   ],
   "source": [
    "arr[1]"
   ]
  },
  {
   "cell_type": "code",
   "execution_count": 5,
   "id": "de1ebd96-151b-48a7-b59e-c1646bb70da0",
   "metadata": {},
   "outputs": [
    {
     "data": {
      "text/plain": [
       "np.int64(12)"
      ]
     },
     "execution_count": 5,
     "metadata": {},
     "output_type": "execute_result"
    }
   ],
   "source": [
    "arr[1,5]"
   ]
  },
  {
   "cell_type": "code",
   "execution_count": 6,
   "id": "7564b9de-e890-4ddc-bedb-05183da46410",
   "metadata": {},
   "outputs": [
    {
     "data": {
      "text/plain": [
       "np.int64(11)"
      ]
     },
     "execution_count": 6,
     "metadata": {},
     "output_type": "execute_result"
    }
   ],
   "source": [
    "arr[0,3]"
   ]
  },
  {
   "cell_type": "code",
   "execution_count": 7,
   "id": "3fc421df-d4bc-411f-8a3c-9705d90175b5",
   "metadata": {},
   "outputs": [
    {
     "data": {
      "text/plain": [
       "(2, 6)"
      ]
     },
     "execution_count": 7,
     "metadata": {},
     "output_type": "execute_result"
    }
   ],
   "source": [
    "arr.shape"
   ]
  },
  {
   "cell_type": "code",
   "execution_count": 12,
   "id": "b57910cf-22a8-4d76-8676-ee328066ebd7",
   "metadata": {},
   "outputs": [
    {
     "data": {
      "text/plain": [
       "dtype('int16')"
      ]
     },
     "execution_count": 12,
     "metadata": {},
     "output_type": "execute_result"
    }
   ],
   "source": [
    "arr.dtype"
   ]
  },
  {
   "cell_type": "code",
   "execution_count": 9,
   "id": "926dd2da-125a-4238-8f67-769e4083c230",
   "metadata": {},
   "outputs": [],
   "source": [
    "arr[0,2] = 0"
   ]
  },
  {
   "cell_type": "code",
   "execution_count": 10,
   "id": "589891f2-f702-4bd8-a8ca-9abd85fe31f4",
   "metadata": {},
   "outputs": [
    {
     "data": {
      "text/plain": [
       "array([[98, 32,  0, 11, 42, 34],\n",
       "       [12, 34, 54, 23, 22, 12]])"
      ]
     },
     "execution_count": 10,
     "metadata": {},
     "output_type": "execute_result"
    }
   ],
   "source": [
    "arr"
   ]
  },
  {
   "cell_type": "code",
   "execution_count": null,
   "id": "a1baf2f0-de9a-476d-b9bc-554c36aa304c",
   "metadata": {},
   "outputs": [],
   "source": [
    "new_ar = "
   ]
  }
 ],
 "metadata": {
  "kernelspec": {
   "display_name": "Python 3 (ipykernel)",
   "language": "python",
   "name": "python3"
  },
  "language_info": {
   "codemirror_mode": {
    "name": "ipython",
    "version": 3
   },
   "file_extension": ".py",
   "mimetype": "text/x-python",
   "name": "python",
   "nbconvert_exporter": "python",
   "pygments_lexer": "ipython3",
   "version": "3.12.6"
  }
 },
 "nbformat": 4,
 "nbformat_minor": 5
}
