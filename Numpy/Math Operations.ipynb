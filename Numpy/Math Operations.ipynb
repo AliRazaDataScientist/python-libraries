{
 "cells": [
  {
   "cell_type": "markdown",
   "id": "e7150d0e-78df-4b69-b001-214958b648d0",
   "metadata": {},
   "source": [
    "# Math Operations"
   ]
  },
  {
   "cell_type": "code",
   "execution_count": 1,
   "id": "cd17ed97-ad8f-4478-9660-3d151d9707f3",
   "metadata": {},
   "outputs": [],
   "source": [
    "import numpy as np"
   ]
  },
  {
   "cell_type": "code",
   "execution_count": 13,
   "id": "b3929d11-3e98-4a73-a224-a69b3e4b309d",
   "metadata": {},
   "outputs": [],
   "source": [
    "r2 = np.empty((3,3))"
   ]
  },
  {
   "cell_type": "code",
   "execution_count": 14,
   "id": "9178f7ad-8a32-4eb4-acf3-2a802ea19550",
   "metadata": {},
   "outputs": [
    {
     "data": {
      "text/plain": [
       "array([[1.48882066e-311, 3.16202013e-322, 6.15438366e+170],\n",
       "       [2.44144236e-052, 2.00426450e-076, 6.76035535e+170],\n",
       "       [6.29218553e-066, 2.68017223e-032, 4.31508979e-061]])"
      ]
     },
     "execution_count": 14,
     "metadata": {},
     "output_type": "execute_result"
    }
   ],
   "source": [
    "r2"
   ]
  },
  {
   "cell_type": "code",
   "execution_count": 17,
   "id": "c66811e1-0e23-4b60-98db-eae7deeeef30",
   "metadata": {},
   "outputs": [],
   "source": [
    "r1 = np.empty((3,3))"
   ]
  },
  {
   "cell_type": "code",
   "execution_count": 18,
   "id": "b9a99531-8bca-4e92-aa90-5601f8132c22",
   "metadata": {},
   "outputs": [
    {
     "data": {
      "text/plain": [
       "array([[1.48882066e-311, 3.16202013e-322, 6.15438366e+170],\n",
       "       [2.44144236e-052, 2.00426450e-076, 6.76035535e+170],\n",
       "       [6.29218553e-066, 2.68017223e-032, 4.31508979e-061]])"
      ]
     },
     "execution_count": 18,
     "metadata": {},
     "output_type": "execute_result"
    }
   ],
   "source": [
    "r1"
   ]
  },
  {
   "cell_type": "code",
   "execution_count": 21,
   "id": "2ef2bd47-ef75-46c0-b880-8ce73efe8d3a",
   "metadata": {},
   "outputs": [],
   "source": [
    "r3 = 2*r1"
   ]
  },
  {
   "cell_type": "code",
   "execution_count": 23,
   "id": "b11940bb-ee33-44c0-abd0-762aaecc1623",
   "metadata": {},
   "outputs": [
    {
     "data": {
      "text/plain": [
       "array([[2.97764132e-311, 6.32404027e-322, 1.23087673e+171],\n",
       "       [4.88288471e-052, 4.00852901e-076, 1.35207107e+171],\n",
       "       [1.25843711e-065, 5.36034447e-032, 8.63017959e-061]])"
      ]
     },
     "execution_count": 23,
     "metadata": {},
     "output_type": "execute_result"
    }
   ],
   "source": [
    "r3"
   ]
  },
  {
   "cell_type": "code",
   "execution_count": 22,
   "id": "08000fae-a9ed-47bc-9fcb-8e0c3b27cfae",
   "metadata": {},
   "outputs": [
    {
     "data": {
      "text/plain": [
       "array([[4.46646198e-311, 9.48606040e-322, 1.84631510e+171],\n",
       "       [7.32432707e-052, 6.01279351e-076, 2.02810661e+171],\n",
       "       [1.88765566e-065, 8.04051670e-032, 1.29452694e-060]])"
      ]
     },
     "execution_count": 22,
     "metadata": {},
     "output_type": "execute_result"
    }
   ],
   "source": [
    "r1+r3"
   ]
  },
  {
   "cell_type": "code",
   "execution_count": 25,
   "id": "311f48f1-cd0c-4838-a998-f95de10f127e",
   "metadata": {},
   "outputs": [
    {
     "data": {
      "text/plain": [
       "array([[1.48882066e-311, 3.16202013e-322, 6.15438366e+170],\n",
       "       [2.44144236e-052, 2.00426450e-076, 6.76035535e+170],\n",
       "       [6.29218553e-066, 2.68017223e-032, 4.31508979e-061]])"
      ]
     },
     "execution_count": 25,
     "metadata": {},
     "output_type": "execute_result"
    }
   ],
   "source": [
    "r3-r1"
   ]
  },
  {
   "cell_type": "code",
   "execution_count": 26,
   "id": "c0e696f0-3641-4cc1-a68b-2b5cc8df3dfb",
   "metadata": {},
   "outputs": [],
   "source": [
    "a1 = np.array([[2,2],[3,3]])"
   ]
  },
  {
   "cell_type": "code",
   "execution_count": 27,
   "id": "80940c18-b526-4e56-915f-e8b747aef16d",
   "metadata": {},
   "outputs": [
    {
     "data": {
      "text/plain": [
       "array([[2, 2],\n",
       "       [3, 3]])"
      ]
     },
     "execution_count": 27,
     "metadata": {},
     "output_type": "execute_result"
    }
   ],
   "source": [
    "a1"
   ]
  },
  {
   "cell_type": "code",
   "execution_count": 28,
   "id": "d343af88-3946-483a-9648-07f2594294c8",
   "metadata": {},
   "outputs": [],
   "source": [
    "a2 = np.array([[4,4],[5,5]])"
   ]
  },
  {
   "cell_type": "code",
   "execution_count": 29,
   "id": "f81c9212-6c20-4cd3-af57-1e42ff170c37",
   "metadata": {},
   "outputs": [
    {
     "data": {
      "text/plain": [
       "array([[4, 4],\n",
       "       [5, 5]])"
      ]
     },
     "execution_count": 29,
     "metadata": {},
     "output_type": "execute_result"
    }
   ],
   "source": [
    "a2"
   ]
  },
  {
   "cell_type": "code",
   "execution_count": 30,
   "id": "d15fe993-344f-4911-911d-3af894f5fefb",
   "metadata": {},
   "outputs": [
    {
     "data": {
      "text/plain": [
       "array([[6, 6],\n",
       "       [8, 8]])"
      ]
     },
     "execution_count": 30,
     "metadata": {},
     "output_type": "execute_result"
    }
   ],
   "source": [
    "a1+a2"
   ]
  },
  {
   "cell_type": "code",
   "execution_count": 31,
   "id": "b8fae973-040b-48db-b86b-31c5ea0c19f3",
   "metadata": {},
   "outputs": [
    {
     "data": {
      "text/plain": [
       "array([[2, 2],\n",
       "       [2, 2]])"
      ]
     },
     "execution_count": 31,
     "metadata": {},
     "output_type": "execute_result"
    }
   ],
   "source": [
    "a2-a1"
   ]
  },
  {
   "cell_type": "code",
   "execution_count": 32,
   "id": "ba3a8f05-aad1-48e8-a20e-b0a5a4f62f00",
   "metadata": {},
   "outputs": [
    {
     "data": {
      "text/plain": [
       "array([[ 8,  8],\n",
       "       [15, 15]])"
      ]
     },
     "execution_count": 32,
     "metadata": {},
     "output_type": "execute_result"
    }
   ],
   "source": [
    "a2*a1"
   ]
  },
  {
   "cell_type": "code",
   "execution_count": 33,
   "id": "105b8a3f-1efd-4f48-9f24-98fac484026b",
   "metadata": {},
   "outputs": [
    {
     "data": {
      "text/plain": [
       "array([[2.        , 2.        ],\n",
       "       [1.66666667, 1.66666667]])"
      ]
     },
     "execution_count": 33,
     "metadata": {},
     "output_type": "execute_result"
    }
   ],
   "source": [
    "a2/a1"
   ]
  },
  {
   "cell_type": "code",
   "execution_count": 34,
   "id": "00683f94-c38a-4ee0-af9b-f1515bcd7a5c",
   "metadata": {},
   "outputs": [
    {
     "data": {
      "text/plain": [
       "array([[2.        , 2.        ],\n",
       "       [2.23606798, 2.23606798]])"
      ]
     },
     "execution_count": 34,
     "metadata": {},
     "output_type": "execute_result"
    }
   ],
   "source": [
    "np.sqrt(a2)"
   ]
  },
  {
   "cell_type": "code",
   "execution_count": 35,
   "id": "b6daf5f2-6ffa-4ffd-b697-f57d69fc41c9",
   "metadata": {},
   "outputs": [
    {
     "data": {
      "text/plain": [
       "(array([1, 1]), array([0, 1]))"
      ]
     },
     "execution_count": 35,
     "metadata": {},
     "output_type": "execute_result"
    }
   ],
   "source": [
    "np.where(a1>2)"
   ]
  },
  {
   "cell_type": "code",
   "execution_count": 54,
   "id": "a1df8f3d-badc-45c2-8df7-958ddb6b2955",
   "metadata": {},
   "outputs": [],
   "source": [
    "con = np.array([[4,3],[3,7]])"
   ]
  },
  {
   "cell_type": "code",
   "execution_count": 55,
   "id": "c2df67c3-8013-4fe1-bf3d-b22e19282b4b",
   "metadata": {},
   "outputs": [
    {
     "data": {
      "text/plain": [
       "array([[4, 3],\n",
       "       [3, 7]])"
      ]
     },
     "execution_count": 55,
     "metadata": {},
     "output_type": "execute_result"
    }
   ],
   "source": [
    "con"
   ]
  },
  {
   "cell_type": "code",
   "execution_count": 56,
   "id": "38abf96d-c565-4c41-9f68-80c2612d8e08",
   "metadata": {},
   "outputs": [],
   "source": [
    "ans = np.where(con>3)"
   ]
  },
  {
   "cell_type": "code",
   "execution_count": 57,
   "id": "0d6a4a00-4de5-45f3-8634-967a7d02b8ea",
   "metadata": {},
   "outputs": [
    {
     "data": {
      "text/plain": [
       "(array([0, 1]), array([0, 1]))"
      ]
     },
     "execution_count": 57,
     "metadata": {},
     "output_type": "execute_result"
    }
   ],
   "source": [
    "ans"
   ]
  },
  {
   "cell_type": "code",
   "execution_count": 58,
   "id": "4c32ca84-798b-48d9-abe0-fcad02d29f58",
   "metadata": {},
   "outputs": [],
   "source": [
    "import sys"
   ]
  },
  {
   "cell_type": "code",
   "execution_count": 59,
   "id": "69df1ff6-e769-48e8-a053-302b5fca6689",
   "metadata": {},
   "outputs": [],
   "source": [
    "pyar = [2,3,4,22]"
   ]
  },
  {
   "cell_type": "code",
   "execution_count": 60,
   "id": "3c1375e2-3c78-4ef0-932b-0083311a583d",
   "metadata": {},
   "outputs": [],
   "source": [
    "jy = np.array(pyar)"
   ]
  },
  {
   "cell_type": "code",
   "execution_count": 61,
   "id": "da70fed2-b4b7-4c50-9ad6-cbeacaafe5b4",
   "metadata": {},
   "outputs": [
    {
     "data": {
      "text/plain": [
       "array([ 2,  3,  4, 22])"
      ]
     },
     "execution_count": 61,
     "metadata": {},
     "output_type": "execute_result"
    }
   ],
   "source": [
    "jy"
   ]
  },
  {
   "cell_type": "code",
   "execution_count": 62,
   "id": "1cd7cea6-9053-4316-ba90-b7a86969842f",
   "metadata": {},
   "outputs": [
    {
     "data": {
      "text/plain": [
       "[2, 3, 4, 22]"
      ]
     },
     "execution_count": 62,
     "metadata": {},
     "output_type": "execute_result"
    }
   ],
   "source": [
    "pyar"
   ]
  },
  {
   "cell_type": "code",
   "execution_count": 64,
   "id": "9d3d949b-17d3-43d5-8038-a3062e9e5862",
   "metadata": {},
   "outputs": [
    {
     "data": {
      "text/plain": [
       "112"
      ]
     },
     "execution_count": 64,
     "metadata": {},
     "output_type": "execute_result"
    }
   ],
   "source": [
    "sys.getsizeof(1)*len(pyar)"
   ]
  },
  {
   "cell_type": "code",
   "execution_count": 65,
   "id": "fc8f8a90-cadf-42c6-b201-e949144e3aed",
   "metadata": {},
   "outputs": [
    {
     "data": {
      "text/plain": [
       "8"
      ]
     },
     "execution_count": 65,
     "metadata": {},
     "output_type": "execute_result"
    }
   ],
   "source": [
    "jy.itemsize"
   ]
  },
  {
   "cell_type": "code",
   "execution_count": 66,
   "id": "59fdc6d5-833f-43c1-8572-7cb539780cbd",
   "metadata": {},
   "outputs": [
    {
     "data": {
      "text/plain": [
       "32"
      ]
     },
     "execution_count": 66,
     "metadata": {},
     "output_type": "execute_result"
    }
   ],
   "source": [
    "jy.itemsize*jy.size"
   ]
  },
  {
   "cell_type": "code",
   "execution_count": null,
   "id": "23de7ea1-b443-465c-833a-db29349c6b63",
   "metadata": {},
   "outputs": [],
   "source": []
  }
 ],
 "metadata": {
  "kernelspec": {
   "display_name": "Python 3 (ipykernel)",
   "language": "python",
   "name": "python3"
  },
  "language_info": {
   "codemirror_mode": {
    "name": "ipython",
    "version": 3
   },
   "file_extension": ".py",
   "mimetype": "text/x-python",
   "name": "python",
   "nbconvert_exporter": "python",
   "pygments_lexer": "ipython3",
   "version": "3.12.6"
  }
 },
 "nbformat": 4,
 "nbformat_minor": 5
}
