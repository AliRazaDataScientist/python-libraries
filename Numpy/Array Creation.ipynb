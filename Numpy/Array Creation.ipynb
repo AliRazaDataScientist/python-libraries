{
 "cells": [
  {
   "cell_type": "markdown",
   "id": "60306e75-567e-4813-95bb-9cfd09de76b4",
   "metadata": {},
   "source": [
    "# Python Sturctre"
   ]
  },
  {
   "cell_type": "code",
   "execution_count": 1,
   "id": "54c6ad31-1e40-4255-a306-2d2aac2b084a",
   "metadata": {},
   "outputs": [],
   "source": [
    "import numpy as np"
   ]
  },
  {
   "cell_type": "code",
   "execution_count": 4,
   "id": "5a470101-d919-4d99-b37d-c9d20e6d3e9f",
   "metadata": {},
   "outputs": [],
   "source": [
    "create_arr = np.array([[1,2,3],[4,5,6],[7,8,9]], np.int8)"
   ]
  },
  {
   "cell_type": "code",
   "execution_count": 5,
   "id": "758fab9e-a43f-4669-a7d1-9aa96c816de0",
   "metadata": {},
   "outputs": [
    {
     "data": {
      "text/plain": [
       "array([[1, 2, 3],\n",
       "       [4, 5, 6],\n",
       "       [7, 8, 9]], dtype=int8)"
      ]
     },
     "execution_count": 5,
     "metadata": {},
     "output_type": "execute_result"
    }
   ],
   "source": [
    "create_arr"
   ]
  },
  {
   "cell_type": "code",
   "execution_count": 6,
   "id": "7dba57d2-e4b4-4443-9dcf-b1226c8ea0e7",
   "metadata": {},
   "outputs": [
    {
     "data": {
      "text/plain": [
       "dtype('int8')"
      ]
     },
     "execution_count": 6,
     "metadata": {},
     "output_type": "execute_result"
    }
   ],
   "source": [
    "create_arr.dtype"
   ]
  },
  {
   "cell_type": "code",
   "execution_count": 7,
   "id": "9a0a6a01-1574-4a53-89bd-0d06cd7b7d29",
   "metadata": {},
   "outputs": [
    {
     "data": {
      "text/plain": [
       "(3, 3)"
      ]
     },
     "execution_count": 7,
     "metadata": {},
     "output_type": "execute_result"
    }
   ],
   "source": [
    "create_arr.shape"
   ]
  },
  {
   "cell_type": "code",
   "execution_count": 9,
   "id": "b6c0443b-dd7b-4dce-b02b-03b30d87944f",
   "metadata": {},
   "outputs": [
    {
     "data": {
      "text/plain": [
       "9"
      ]
     },
     "execution_count": 9,
     "metadata": {},
     "output_type": "execute_result"
    }
   ],
   "source": [
    "create_arr.size"
   ]
  },
  {
   "cell_type": "code",
   "execution_count": 44,
   "id": "2fdb8705-bbe4-44eb-ad9c-7420ed0bd7e5",
   "metadata": {},
   "outputs": [],
   "source": [
    "new_arr = np.array({1,2,3})"
   ]
  },
  {
   "cell_type": "code",
   "execution_count": 45,
   "id": "2dda5cdb-e7f6-42fb-b241-c4470354f377",
   "metadata": {},
   "outputs": [
    {
     "data": {
      "text/plain": [
       "array({1, 2, 3}, dtype=object)"
      ]
     },
     "execution_count": 45,
     "metadata": {},
     "output_type": "execute_result"
    }
   ],
   "source": [
    "new_arr"
   ]
  },
  {
   "cell_type": "code",
   "execution_count": 42,
   "id": "62cf794c-5592-44b3-a3b4-0cb0bb3c22be",
   "metadata": {},
   "outputs": [
    {
     "data": {
      "text/plain": [
       "array([[0., 0., 0.],\n",
       "       [0., 0., 0.],\n",
       "       [0., 0., 0.]])"
      ]
     },
     "execution_count": 42,
     "metadata": {},
     "output_type": "execute_result"
    }
   ],
   "source": [
    "np.zeros((3,3))"
   ]
  },
  {
   "cell_type": "code",
   "execution_count": 17,
   "id": "e9c273e0-a525-48ce-944a-9befc2fb1ef5",
   "metadata": {},
   "outputs": [
    {
     "data": {
      "text/plain": [
       "array([0, 1, 2, 3, 4])"
      ]
     },
     "execution_count": 17,
     "metadata": {},
     "output_type": "execute_result"
    }
   ],
   "source": [
    "np.arange(5)"
   ]
  },
  {
   "cell_type": "code",
   "execution_count": 27,
   "id": "b6f9a735-8f54-485f-827b-f7e39d6eb4f3",
   "metadata": {},
   "outputs": [],
   "source": [
    "lspace = np.linspace(1,25,6)"
   ]
  },
  {
   "cell_type": "code",
   "execution_count": 49,
   "id": "ed245e4f-426f-41a8-932e-95597ab45108",
   "metadata": {},
   "outputs": [
    {
     "data": {
      "text/plain": [
       "array([ 1. ,  5.8, 10.6, 15.4, 20.2, 25. ])"
      ]
     },
     "execution_count": 49,
     "metadata": {},
     "output_type": "execute_result"
    }
   ],
   "source": [
    "lspace "
   ]
  },
  {
   "cell_type": "code",
   "execution_count": 48,
   "id": "6956fb40-7871-4a7d-92eb-f16e405ba457",
   "metadata": {},
   "outputs": [],
   "source": [
    "emp = np.empty((4,3))"
   ]
  },
  {
   "cell_type": "code",
   "execution_count": 60,
   "id": "5acd9ca2-78e1-41ce-bd9f-a3579b46ec35",
   "metadata": {},
   "outputs": [
    {
     "data": {
      "text/plain": [
       "array([[1.29639543e-311, 3.16202013e-322, 0.00000000e+000],\n",
       "       [0.00000000e+000, 1.11260619e-306, 1.45233847e+165],\n",
       "       [1.96649689e+160, 9.74153084e-072, 9.41712229e-047],\n",
       "       [2.23188224e+180, 2.83032111e-056, 4.46976856e-062]])"
      ]
     },
     "execution_count": 60,
     "metadata": {},
     "output_type": "execute_result"
    }
   ],
   "source": [
    "emp"
   ]
  },
  {
   "cell_type": "code",
   "execution_count": 64,
   "id": "d5a8dcb5-9210-4650-876c-d69a2d35d5f9",
   "metadata": {},
   "outputs": [
    {
     "data": {
      "text/plain": [
       "array([[1.29639543e-311, 3.16202013e-322, 0.00000000e+000],\n",
       "       [0.00000000e+000, 1.11260619e-306, 1.45233847e+165],\n",
       "       [1.96649689e+160, 9.74153084e-072, 9.41712229e-047],\n",
       "       [2.23188224e+180, 2.83032111e-056, 4.46976856e-062]])"
      ]
     },
     "execution_count": 64,
     "metadata": {},
     "output_type": "execute_result"
    }
   ],
   "source": [
    "np.empty_like(emp)"
   ]
  },
  {
   "cell_type": "code",
   "execution_count": 52,
   "id": "00cee831-a246-48c3-88ed-e19987fd7ecd",
   "metadata": {},
   "outputs": [],
   "source": [
    "id = np.identity(23)"
   ]
  },
  {
   "cell_type": "code",
   "execution_count": 53,
   "id": "18811bcc-0b8a-4d22-b042-de1a3b23d54f",
   "metadata": {},
   "outputs": [
    {
     "data": {
      "text/plain": [
       "array([[1., 0., 0., 0., 0., 0., 0., 0., 0., 0., 0., 0., 0., 0., 0., 0.,\n",
       "        0., 0., 0., 0., 0., 0., 0.],\n",
       "       [0., 1., 0., 0., 0., 0., 0., 0., 0., 0., 0., 0., 0., 0., 0., 0.,\n",
       "        0., 0., 0., 0., 0., 0., 0.],\n",
       "       [0., 0., 1., 0., 0., 0., 0., 0., 0., 0., 0., 0., 0., 0., 0., 0.,\n",
       "        0., 0., 0., 0., 0., 0., 0.],\n",
       "       [0., 0., 0., 1., 0., 0., 0., 0., 0., 0., 0., 0., 0., 0., 0., 0.,\n",
       "        0., 0., 0., 0., 0., 0., 0.],\n",
       "       [0., 0., 0., 0., 1., 0., 0., 0., 0., 0., 0., 0., 0., 0., 0., 0.,\n",
       "        0., 0., 0., 0., 0., 0., 0.],\n",
       "       [0., 0., 0., 0., 0., 1., 0., 0., 0., 0., 0., 0., 0., 0., 0., 0.,\n",
       "        0., 0., 0., 0., 0., 0., 0.],\n",
       "       [0., 0., 0., 0., 0., 0., 1., 0., 0., 0., 0., 0., 0., 0., 0., 0.,\n",
       "        0., 0., 0., 0., 0., 0., 0.],\n",
       "       [0., 0., 0., 0., 0., 0., 0., 1., 0., 0., 0., 0., 0., 0., 0., 0.,\n",
       "        0., 0., 0., 0., 0., 0., 0.],\n",
       "       [0., 0., 0., 0., 0., 0., 0., 0., 1., 0., 0., 0., 0., 0., 0., 0.,\n",
       "        0., 0., 0., 0., 0., 0., 0.],\n",
       "       [0., 0., 0., 0., 0., 0., 0., 0., 0., 1., 0., 0., 0., 0., 0., 0.,\n",
       "        0., 0., 0., 0., 0., 0., 0.],\n",
       "       [0., 0., 0., 0., 0., 0., 0., 0., 0., 0., 1., 0., 0., 0., 0., 0.,\n",
       "        0., 0., 0., 0., 0., 0., 0.],\n",
       "       [0., 0., 0., 0., 0., 0., 0., 0., 0., 0., 0., 1., 0., 0., 0., 0.,\n",
       "        0., 0., 0., 0., 0., 0., 0.],\n",
       "       [0., 0., 0., 0., 0., 0., 0., 0., 0., 0., 0., 0., 1., 0., 0., 0.,\n",
       "        0., 0., 0., 0., 0., 0., 0.],\n",
       "       [0., 0., 0., 0., 0., 0., 0., 0., 0., 0., 0., 0., 0., 1., 0., 0.,\n",
       "        0., 0., 0., 0., 0., 0., 0.],\n",
       "       [0., 0., 0., 0., 0., 0., 0., 0., 0., 0., 0., 0., 0., 0., 1., 0.,\n",
       "        0., 0., 0., 0., 0., 0., 0.],\n",
       "       [0., 0., 0., 0., 0., 0., 0., 0., 0., 0., 0., 0., 0., 0., 0., 1.,\n",
       "        0., 0., 0., 0., 0., 0., 0.],\n",
       "       [0., 0., 0., 0., 0., 0., 0., 0., 0., 0., 0., 0., 0., 0., 0., 0.,\n",
       "        1., 0., 0., 0., 0., 0., 0.],\n",
       "       [0., 0., 0., 0., 0., 0., 0., 0., 0., 0., 0., 0., 0., 0., 0., 0.,\n",
       "        0., 1., 0., 0., 0., 0., 0.],\n",
       "       [0., 0., 0., 0., 0., 0., 0., 0., 0., 0., 0., 0., 0., 0., 0., 0.,\n",
       "        0., 0., 1., 0., 0., 0., 0.],\n",
       "       [0., 0., 0., 0., 0., 0., 0., 0., 0., 0., 0., 0., 0., 0., 0., 0.,\n",
       "        0., 0., 0., 1., 0., 0., 0.],\n",
       "       [0., 0., 0., 0., 0., 0., 0., 0., 0., 0., 0., 0., 0., 0., 0., 0.,\n",
       "        0., 0., 0., 0., 1., 0., 0.],\n",
       "       [0., 0., 0., 0., 0., 0., 0., 0., 0., 0., 0., 0., 0., 0., 0., 0.,\n",
       "        0., 0., 0., 0., 0., 1., 0.],\n",
       "       [0., 0., 0., 0., 0., 0., 0., 0., 0., 0., 0., 0., 0., 0., 0., 0.,\n",
       "        0., 0., 0., 0., 0., 0., 1.]])"
      ]
     },
     "execution_count": 53,
     "metadata": {},
     "output_type": "execute_result"
    }
   ],
   "source": [
    "id"
   ]
  },
  {
   "cell_type": "code",
   "execution_count": 54,
   "id": "3716b925-dd76-4b57-bce3-cd094e80611b",
   "metadata": {},
   "outputs": [
    {
     "data": {
      "text/plain": [
       "(23, 23)"
      ]
     },
     "execution_count": 54,
     "metadata": {},
     "output_type": "execute_result"
    }
   ],
   "source": [
    "id.shape"
   ]
  },
  {
   "cell_type": "code",
   "execution_count": 58,
   "id": "ea7d186a-9620-4f89-acc1-c109192ecd7f",
   "metadata": {},
   "outputs": [
    {
     "data": {
      "text/plain": [
       "529"
      ]
     },
     "execution_count": 58,
     "metadata": {},
     "output_type": "execute_result"
    }
   ],
   "source": [
    "id.size"
   ]
  },
  {
   "cell_type": "code",
   "execution_count": 67,
   "id": "073caf1d-1b84-4cf8-a985-34858e1421ec",
   "metadata": {},
   "outputs": [],
   "source": [
    "new_ar = np.empty((6,4))"
   ]
  },
  {
   "cell_type": "code",
   "execution_count": 68,
   "id": "3bfdae72-266f-47b9-95e7-499e552404fc",
   "metadata": {},
   "outputs": [
    {
     "data": {
      "text/plain": [
       "array([[4.67296746e-307, 1.69121096e-306, 7.56602523e-307,\n",
       "        1.89146896e-307],\n",
       "       [7.56571288e-307, 3.11525958e-307, 1.24610723e-306,\n",
       "        1.37962320e-306],\n",
       "       [1.29060871e-306, 2.22518251e-306, 1.33511969e-306,\n",
       "        1.78022342e-306],\n",
       "       [1.05700345e-307, 3.11525958e-307, 1.69118108e-306,\n",
       "        8.06632139e-308],\n",
       "       [1.20160711e-306, 1.69119330e-306, 1.29062229e-306,\n",
       "        6.89804133e-307],\n",
       "       [1.11261298e-306, 6.89804132e-307, 1.24610723e-306,\n",
       "        8.34451504e-308]])"
      ]
     },
     "execution_count": 68,
     "metadata": {},
     "output_type": "execute_result"
    }
   ],
   "source": [
    "new_ar"
   ]
  },
  {
   "cell_type": "code",
   "execution_count": 77,
   "id": "442cd42a-c7be-4c15-a92b-d6d226a62ec3",
   "metadata": {},
   "outputs": [],
   "source": [
    "updated_ar = new_ar.reshape(3,8)"
   ]
  },
  {
   "cell_type": "code",
   "execution_count": 78,
   "id": "ab73e917-5caa-4e6f-8472-c11a93d46ba6",
   "metadata": {},
   "outputs": [
    {
     "data": {
      "text/plain": [
       "array([[4.67296746e-307, 1.69121096e-306, 7.56602523e-307,\n",
       "        1.89146896e-307, 7.56571288e-307, 3.11525958e-307,\n",
       "        1.24610723e-306, 1.37962320e-306],\n",
       "       [1.29060871e-306, 2.22518251e-306, 1.33511969e-306,\n",
       "        1.78022342e-306, 1.05700345e-307, 3.11525958e-307,\n",
       "        1.69118108e-306, 8.06632139e-308],\n",
       "       [1.20160711e-306, 1.69119330e-306, 1.29062229e-306,\n",
       "        6.89804133e-307, 1.11261298e-306, 6.89804132e-307,\n",
       "        1.24610723e-306, 8.34451504e-308]])"
      ]
     },
     "execution_count": 78,
     "metadata": {},
     "output_type": "execute_result"
    }
   ],
   "source": [
    "updated_ar"
   ]
  },
  {
   "cell_type": "code",
   "execution_count": 81,
   "id": "b61d6e5d-f8d4-4671-ac07-617423754f79",
   "metadata": {},
   "outputs": [],
   "source": [
    "rav = updated_ar.ravel()"
   ]
  },
  {
   "cell_type": "code",
   "execution_count": 82,
   "id": "a9faf3c2-4e6a-4449-ac83-7e6be48d18f9",
   "metadata": {},
   "outputs": [
    {
     "data": {
      "text/plain": [
       "array([4.67296746e-307, 1.69121096e-306, 7.56602523e-307, 1.89146896e-307,\n",
       "       7.56571288e-307, 3.11525958e-307, 1.24610723e-306, 1.37962320e-306,\n",
       "       1.29060871e-306, 2.22518251e-306, 1.33511969e-306, 1.78022342e-306,\n",
       "       1.05700345e-307, 3.11525958e-307, 1.69118108e-306, 8.06632139e-308,\n",
       "       1.20160711e-306, 1.69119330e-306, 1.29062229e-306, 6.89804133e-307,\n",
       "       1.11261298e-306, 6.89804132e-307, 1.24610723e-306, 8.34451504e-308])"
      ]
     },
     "execution_count": 82,
     "metadata": {},
     "output_type": "execute_result"
    }
   ],
   "source": [
    "rav"
   ]
  },
  {
   "cell_type": "code",
   "execution_count": 83,
   "id": "f953565d-41ff-4739-aef7-0d0d7de3a296",
   "metadata": {},
   "outputs": [
    {
     "data": {
      "text/plain": [
       "(24,)"
      ]
     },
     "execution_count": 83,
     "metadata": {},
     "output_type": "execute_result"
    }
   ],
   "source": [
    "rav.shape"
   ]
  },
  {
   "cell_type": "code",
   "execution_count": null,
   "id": "4d35791b-6b02-461c-8b28-9917553ffa7c",
   "metadata": {},
   "outputs": [],
   "source": []
  }
 ],
 "metadata": {
  "kernelspec": {
   "display_name": "Python 3 (ipykernel)",
   "language": "python",
   "name": "python3"
  },
  "language_info": {
   "codemirror_mode": {
    "name": "ipython",
    "version": 3
   },
   "file_extension": ".py",
   "mimetype": "text/x-python",
   "name": "python",
   "nbconvert_exporter": "python",
   "pygments_lexer": "ipython3",
   "version": "3.12.6"
  }
 },
 "nbformat": 4,
 "nbformat_minor": 5
}
